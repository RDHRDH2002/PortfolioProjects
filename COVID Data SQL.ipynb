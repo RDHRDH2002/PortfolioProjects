{
 "cells": [
  {
   "cell_type": "markdown",
   "metadata": {},
   "source": [
    "COVID Data SQL Queries"
   ]
  },
  {
   "cell_type": "code",
   "execution_count": null,
   "metadata": {
    "vscode": {
     "languageId": "sql"
    }
   },
   "outputs": [],
   "source": [
    "-- Select Data That We Will Be Using\n",
    "\n",
    "Select Location, date, total_cases, new_cases, total_deaths, population\n",
    "From CovidDeaths\n",
    "Where continent is not null\n",
    "Order By 1,2"
   ]
  },
  {
   "cell_type": "code",
   "execution_count": null,
   "metadata": {
    "vscode": {
     "languageId": "sql"
    }
   },
   "outputs": [],
   "source": [
    "-- Looking at Total Cases vs. Total Deaths\n",
    "-- Shows the Likelihood of Dying if You Contract COVID in USA\n",
    "\n",
    "Select Location, date, total_cases, total_deaths, (total_deaths/total_cases)*100 as DeathPercentage\n",
    "From CovidDeaths\n",
    "Where location like '%states%'\n",
    "Order By 1,2"
   ]
  },
  {
   "cell_type": "code",
   "execution_count": null,
   "metadata": {
    "vscode": {
     "languageId": "sql"
    }
   },
   "outputs": [],
   "source": [
    "-- Looking at Total Cases vs. Population\n",
    "-- Shows the Percentage of Population that got COVID in USA\n",
    "\n",
    "Select Location, date, total_cases, Population, (total_cases/population)*100 as CasePercentage\n",
    "From CovidDeaths\n",
    "Where location like '%states%'\n",
    "Order By 1,2"
   ]
  },
  {
   "cell_type": "code",
   "execution_count": null,
   "metadata": {
    "vscode": {
     "languageId": "sql"
    }
   },
   "outputs": [],
   "source": [
    "-- Looking at Countries with Highest Infection Rate Compared to Population\n",
    "\n",
    "Select Location, Population, MAX(total_cases) as HighestInfectionCount, MAX((total_cases/Population))*100 as PercentPopulationInfected\n",
    "From CovidDeaths\n",
    "Where continent is not null\n",
    "Group By Location, Population\n",
    "Order By PercentPopulationInfected desc"
   ]
  },
  {
   "cell_type": "code",
   "execution_count": null,
   "metadata": {
    "vscode": {
     "languageId": "sql"
    }
   },
   "outputs": [],
   "source": [
    "-- Showing Countries with the Highest Death count per Population\n",
    "\n",
    "Select Location, MAX(cast(Total_deaths as int)) as TotalDeathCount\n",
    "From CovidDeaths\n",
    "Where continent is not null\n",
    "Group By Location\n",
    "Order By TotalDeathCount desc"
   ]
  },
  {
   "attachments": {},
   "cell_type": "markdown",
   "metadata": {},
   "source": [
    "BREAKING THINGS DOWN BY CONTINENT"
   ]
  },
  {
   "cell_type": "code",
   "execution_count": null,
   "metadata": {
    "vscode": {
     "languageId": "sql"
    }
   },
   "outputs": [],
   "source": [
    "-- Showing Continents with the Highest Death Count per Population\n",
    "\n",
    "Select continent, MAX(cast(Total_deaths as int)) as TotalDeathCount\n",
    "From CovidDeaths\n",
    "Where continent is not null\n",
    "Group By continent\n",
    "Order By TotalDeathCount desc"
   ]
  },
  {
   "cell_type": "code",
   "execution_count": null,
   "metadata": {
    "vscode": {
     "languageId": "sql"
    }
   },
   "outputs": [],
   "source": [
    "-- Global Numbers\n",
    "\n",
    "Select SUM(new_cases) as total_cases, SUM(cast(new_deaths as int)) as total_deaths, SUM(cast(new_deaths as int))/SUM(New_Cases)*100 as DeathPercentage\n",
    "From CovidDeaths\n",
    "Where continent is not null \n",
    "Order By 1,2"
   ]
  },
  {
   "cell_type": "code",
   "execution_count": null,
   "metadata": {
    "vscode": {
     "languageId": "sql"
    }
   },
   "outputs": [],
   "source": [
    "-- Total Population vs. Vaccinations\n",
    "-- Shows Percentage of Population that has Received at Least One COVID VACCINATION\n",
    "\n",
    "Select dea.continent, dea.location, dea.date, dea.population, vac.new_vaccinations, SUM(CONVERT(int,vac.new_vaccinations)) OVER (Partition by dea.Location Order by dea.location, dea.Date) as RollingPeopleVaccinated\n",
    "From CovidDeaths dea\n",
    "Join CovidVaccinations vac\n",
    "\tOn dea.location = vac.location\n",
    "\tand dea.date = vac.date\n",
    "where dea.continent is not null \n",
    "order by 2,3"
   ]
  },
  {
   "cell_type": "code",
   "execution_count": null,
   "metadata": {
    "vscode": {
     "languageId": "sql"
    }
   },
   "outputs": [],
   "source": [
    "-- Using CTE to Perform Calculation on Partition By in Previous Query\n",
    "\n",
    "With PopvsVac (Continent, Location, Date, Population, New_Vaccinations, RollingPeopleVaccinated)\n",
    "as\n",
    "(\n",
    "Select dea.continent, dea.location, dea.date, dea.population, vac.new_vaccinations, SUM(CONVERT(int,vac.new_vaccinations)) OVER (Partition by dea.Location Order by dea.location, dea.Date) as RollingPeopleVaccinated\n",
    "From CovidDeaths dea\n",
    "Join CovidVaccinations vac\n",
    "\tOn dea.location = vac.location\n",
    "\tand dea.date = vac.date\n",
    "where dea.continent is not null\n",
    ")\n",
    "Select *, (RollingPeopleVaccinated/Population)*100\n",
    "From PopvsVac"
   ]
  },
  {
   "cell_type": "code",
   "execution_count": null,
   "metadata": {
    "vscode": {
     "languageId": "sql"
    }
   },
   "outputs": [],
   "source": [
    "-- Using Temp Table to Perform Calculation on Partition By in Previous Query\n",
    "\n",
    "DROP Table if exists #PercentPopulationVaccinated\n",
    "Create Table #PercentPopulationVaccinated\n",
    "(\n",
    "Continent nvarchar(255),\n",
    "Location nvarchar(255),\n",
    "Date datetime,\n",
    "Population numeric,\n",
    "New_vaccinations numeric,\n",
    "RollingPeopleVaccinated numeric\n",
    ")\n",
    "\n",
    "Insert into #PercentPopulationVaccinated\n",
    "Select dea.continent, dea.location, dea.date, dea.population, vac.new_vaccinations, SUM(CONVERT(int,vac.new_vaccinations)) OVER (Partition by dea.Location Order by dea.location, dea.Date) as RollingPeopleVaccinated\n",
    "From CovidDeaths dea\n",
    "Join CovidVaccinations vac\n",
    "\tOn dea.location = vac.location\n",
    "\tand dea.date = vac.date\n",
    "Select *, (RollingPeopleVaccinated/Population)*100\n",
    "From #PercentPopulationVaccinated"
   ]
  },
  {
   "cell_type": "code",
   "execution_count": null,
   "metadata": {
    "vscode": {
     "languageId": "sql"
    }
   },
   "outputs": [],
   "source": [
    "-- Creating View to Store Data for Later Visualizations\n",
    "\n",
    "Create View PercentPopulationVaccinated as\n",
    "Select dea.continent, dea.location, dea.date, dea.population, vac.new_vaccinations, SUM(CONVERT(int,vac.new_vaccinations)) OVER (Partition by dea.Location Order by dea.location, dea.Date) as RollingPeopleVaccinated\n",
    "From CovidDeaths dea\n",
    "Join CovidVaccinations vac\n",
    "\tOn dea.location = vac.location\n",
    "\tand dea.date = vac.date\n",
    "where dea.continent is not null "
   ]
  }
 ],
 "metadata": {
  "kernelspec": {
   "display_name": "base",
   "language": "python",
   "name": "python3"
  },
  "language_info": {
   "codemirror_mode": {
    "name": "ipython",
    "version": 3
   },
   "file_extension": ".py",
   "mimetype": "text/x-python",
   "name": "python",
   "nbconvert_exporter": "python",
   "pygments_lexer": "ipython3",
   "version": "3.10.9"
  },
  "orig_nbformat": 4
 },
 "nbformat": 4,
 "nbformat_minor": 2
}
