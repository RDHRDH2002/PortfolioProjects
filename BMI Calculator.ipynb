{
 "cells": [
  {
   "attachments": {},
   "cell_type": "markdown",
   "metadata": {},
   "source": [
    "BMI CALCULATOR"
   ]
  },
  {
   "cell_type": "code",
   "execution_count": 22,
   "metadata": {},
   "outputs": [],
   "source": [
    "# BMI = (weight in pounds x 703)/(height in inches x height in inches)"
   ]
  },
  {
   "cell_type": "code",
   "execution_count": 23,
   "metadata": {},
   "outputs": [
    {
     "name": "stdout",
     "output_type": "stream",
     "text": [
      "21.824324324324323\n"
     ]
    }
   ],
   "source": [
    "name = input(\"Enter your name:  \")\n",
    "weight = int(input(\"Enter your weight in pounds:  \"))\n",
    "height = int(input(\"Enter your height in inches:  \"))\n",
    "BMI = (weight * 703)/(height * height)\n",
    "\n",
    "print(BMI)"
   ]
  },
  {
   "cell_type": "code",
   "execution_count": 26,
   "metadata": {},
   "outputs": [
    {
     "name": "stdout",
     "output_type": "stream",
     "text": [
      "Reece, you are a normal weight. Continue your routine of eating better and getting exercise.\n"
     ]
    }
   ],
   "source": [
    "if BMI>0:\n",
    "    if(BMI<18.5):\n",
    "        print(name +\", you are underweight. Consider better nutrition and consuming more calories.\")\n",
    "    elif(BMI<=24.9):\n",
    "        print(name +\", you are a normal weight. Continue your routine of eating better and getting exercise.\")\n",
    "    elif(BMI<=29.9):\n",
    "        print(name +\", you are overweight. Consider better nutrition, exercise, and consuming less calories.\")\n",
    "    elif(BMI<=34.9):\n",
    "        print(name +\", you are obese. Please consider better nutrition, exercise, and consuming less calories. \")\n",
    "    elif(BMI<=39.9):\n",
    "        print(name +\", you are severely obese. We heavily consider better nutrition, exercise, and consuming less calories.\")\n",
    "    else:\n",
    "        print(name +\", you are morbidly obese. IMMEDIATELY consider better nutrition, exercise, and consuming less calories.\")\n",
    "else:\n",
    "    print(\"Enter valid input.\")"
   ]
  }
 ],
 "metadata": {
  "kernelspec": {
   "display_name": "base",
   "language": "python",
   "name": "python3"
  },
  "language_info": {
   "codemirror_mode": {
    "name": "ipython",
    "version": 3
   },
   "file_extension": ".py",
   "mimetype": "text/x-python",
   "name": "python",
   "nbconvert_exporter": "python",
   "pygments_lexer": "ipython3",
   "version": "3.10.9"
  },
  "orig_nbformat": 4
 },
 "nbformat": 4,
 "nbformat_minor": 2
}
