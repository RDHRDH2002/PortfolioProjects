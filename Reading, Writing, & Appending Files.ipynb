{
  "nbformat": 4,
  "nbformat_minor": 0,
  "metadata": {
    "colab": {
      "provenance": []
    },
    "kernelspec": {
      "name": "python3",
      "display_name": "Python 3"
    },
    "language_info": {
      "name": "python"
    }
  },
  "cells": [
    {
      "cell_type": "markdown",
      "source": [
        "Creating, Reading, & Appending Files"
      ],
      "metadata": {
        "id": "1FYpIZj6Pk0r"
      }
    },
    {
      "cell_type": "code",
      "execution_count": 8,
      "metadata": {
        "id": "hy1EylT0Oqxu"
      },
      "outputs": [],
      "source": [
        "write_file = open(r'C:\\Users\\reece\\OneDrive\\Documents\\Job Information\\Profile\\Portfolio\\Python\\Creating, Reading, & Appending Files\\FakeFile.txt', 'w')"
      ]
    },
    {
      "cell_type": "code",
      "source": [
        "write_file.write('This is our first sentence in our file.')"
      ],
      "metadata": {
        "colab": {
          "base_uri": "https://localhost:8080/"
        },
        "id": "591M6yY7Q0lN",
        "outputId": "da2032e2-3b51-43b1-80b4-75c5c3e2f068"
      },
      "execution_count": 9,
      "outputs": [
        {
          "output_type": "execute_result",
          "data": {
            "text/plain": [
              "39"
            ]
          },
          "metadata": {},
          "execution_count": 9
        }
      ]
    },
    {
      "cell_type": "code",
      "source": [
        "write_file.close()"
      ],
      "metadata": {
        "id": "sSa5YdLBRM7t"
      },
      "execution_count": 10,
      "outputs": []
    },
    {
      "cell_type": "code",
      "source": [
        "append_file = open(r'C:\\Users\\reece\\OneDrive\\Documents\\Job Information\\Profile\\Portfolio\\Python\\Creating, Reading, & Appending Files\\FakeFile.txt', 'a')\n",
        "append_file.write(' This is our second sentence in our file.')\n",
        "append_file.close()"
      ],
      "metadata": {
        "id": "quLSwMylRP00"
      },
      "execution_count": 11,
      "outputs": []
    },
    {
      "cell_type": "code",
      "source": [
        "with open(r'C:\\Users\\reece\\OneDrive\\Documents\\Job Information\\Profile\\Portfolio\\Python\\Creating, Reading, & Appending Files\\FakeFile.txt', 'a') as append_file:\n",
        "  append_file.write('\\n This is our third sentence in our file on a new line.')"
      ],
      "metadata": {
        "id": "_QRE_zRWR4dP"
      },
      "execution_count": 12,
      "outputs": []
    },
    {
      "cell_type": "code",
      "source": [
        "with open(r'C:\\Users\\reece\\OneDrive\\Documents\\Job Information\\Profile\\Portfolio\\Python\\Creating, Reading, & Appending Files\\FakeFile.txt', 'r') as read_file:\n",
        "  print(read_file.read())"
      ],
      "metadata": {
        "colab": {
          "base_uri": "https://localhost:8080/"
        },
        "id": "OyCEsQKJSM_8",
        "outputId": "1129e41b-e98c-480d-f43d-96cce3aafebf"
      },
      "execution_count": 16,
      "outputs": [
        {
          "output_type": "stream",
          "name": "stdout",
          "text": [
            "This is our first sentence in our file. This is our second sentence in our file.\n",
            " This is our third sentence in our file on a new line.\n",
            " This is our third sentence in our file on a new line.\n"
          ]
        }
      ]
    },
    {
      "cell_type": "code",
      "source": [
        "multi_line = \"\"\"\n",
        "This is the fourth sentence.\n",
        "This is the fifth sentence.\n",
        "This is the sixth sentence.\n",
        "\"\"\"\n",
        "with open(r'C:\\Users\\reece\\OneDrive\\Documents\\Job Information\\Profile\\Portfolio\\Python\\Creating, Reading, & Appending Files\\FakeFile.txt', 'a') as append_file:\n",
        "  append_file.write(multi_line)"
      ],
      "metadata": {
        "id": "FFsIbuelSaZ4"
      },
      "execution_count": 18,
      "outputs": []
    },
    {
      "cell_type": "code",
      "source": [
        "with open(r'C:\\Users\\reece\\OneDrive\\Documents\\Job Information\\Profile\\Portfolio\\Python\\Creating, Reading, & Appending Files\\FakeFile.txt', 'r') as read_file:\n",
        "  print(read_file.read())"
      ],
      "metadata": {
        "colab": {
          "base_uri": "https://localhost:8080/"
        },
        "id": "aO97zba4Ss26",
        "outputId": "0a1cdff3-9bd4-4abd-d3d4-b5d3b906977f"
      },
      "execution_count": 19,
      "outputs": [
        {
          "output_type": "stream",
          "name": "stdout",
          "text": [
            "This is our first sentence in our file. This is our second sentence in our file.\n",
            " This is our third sentence in our file on a new line.\n",
            " This is our third sentence in our file on a new line.\n",
            "This is the fourth sentence.\n",
            "This is the fifth sentence.\n",
            "This is the sixth sentence.\n",
            "\n"
          ]
        }
      ]
    }
  ]
}